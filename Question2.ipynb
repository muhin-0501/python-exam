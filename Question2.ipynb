def add(n):
    d = {'Square': lambda a : a**2, 
         'Cube': lambda a : a**3, 
         'Squareroot': lambda a : a**(1/2), 
         }
    sum = 0
    for key in d.keys():
        sum += d[key](n)
    return sum

x=int(input())
print(add(x))

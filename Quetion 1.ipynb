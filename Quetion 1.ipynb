p=['good','best','awesome','nice']
n=['worst','awful']
pl=[]
nl=[]
c=['He is good boy','Food is worst here','He is an awesome player','She is the best','The pizza tastes awful','These burgers are really nice']
for j in range(0,1):    
    for i in range(0,len(c)):
        if p[j] in c[i] or p[j+1] in c[i] or p[j+2] in c[i] or p[j+3] in c[i]:
            pl.append(c[i])
        elif n[j] in c[i] or n[j+1] in c[i]:
            nl.append(c[i])
print("Positive Words=",pl)
print("Negative Words=",nl)

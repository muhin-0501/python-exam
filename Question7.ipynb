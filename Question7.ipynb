given_sets= [[1,2,3,4,8], [2,3,8,5,6], [8,4,5,3,7],[6,9,8,3],[9,12,3,7,6,8,4,6,21,1,6]]
c=set(given_sets[0]).intersection(*given_sets)
print("Output:",c

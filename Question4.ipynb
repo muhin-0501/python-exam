ls=['hello','hOw','Dear','ARe','You']
x=[]
for i in range(0,len(ls)):
    s=ls[i]
    if s[1].isupper():
        x.append(s)
print("Output:",x)

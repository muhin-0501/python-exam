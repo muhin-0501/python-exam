fruits = (
('Lemon', 'sour'),
('DragonFruit', 'Sweet'),
('Grapes', 'soUr'),
('Kiwi', 'Sour'),
('Apples', 'sweet'),
('Orange','sour'),
('Blueberries','sweet'),
('Limes','Sour')
)
out=[]
arr=[]
for i in range (len(fruits)):
    if 'sour' in fruits[i] or 'Sour' in fruits[i] or 'soUr' in fruits[i] :
        out.append(fruits[i])
for j in range (len(out)):
    arr.append(out[j][0])
print("Sour Fruits:",arr)

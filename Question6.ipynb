nameList=['santa Maria','Hello World','Marry christmas','tHank You']
y=[]
x=[]
for i in nameList:
  y.append(i.split(' ')[0])
  y.append(i.split(' ')[1])
for i in y:
    if i[0].isupper():
      x.append(i)
print("Output:",x)

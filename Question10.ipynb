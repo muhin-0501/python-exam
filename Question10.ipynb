#Question :10
#List of data in Years
import datetime
dateList = ['17-12-1997','22-04-2011','01-05-1993','19-06-2020']
x=[]
for i in dateList:
    datem = datetime.datetime.strptime(i, "%d-%m-%Y")
    x.append(str(datem.year))
print("Output:",x)

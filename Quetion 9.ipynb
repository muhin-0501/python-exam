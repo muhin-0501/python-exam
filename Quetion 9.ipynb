#Question :9
#Uppercase use lambda
isbool=['True','FALse','tRUe','tRue','False','faLse']
x=map(lambda x:x.upper(),isbool)
print("Output:",list(x))

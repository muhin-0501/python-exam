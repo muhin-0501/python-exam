#Question : 8
#cumulative average 
input= [9,8,7,6,5]
import itertools as it
avg=[]
avg= it.accumulate(list(enumerate(input)), lambda a,b: (b[0], (a[1]*(a[0]+1) + b[1])/(b[0]+1)))
print("Output:",list(map(lambda x: x[1], avg)))

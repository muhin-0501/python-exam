WeightOnEarth = {'John':45, 'Shelly':65, 'Marry':35}
GMoon = 1.622
GEarth = 9.81
WMoon = dict(map(lambda x : (x, round((WeightOnEarth[x]/GEarth)*GMoon, 2)), WeightOnEarth))
print("Weight on Moon: ",WMoon)
